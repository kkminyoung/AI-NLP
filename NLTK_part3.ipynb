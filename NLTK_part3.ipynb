{
 "cells": [
  {
   "cell_type": "code",
   "execution_count": 22,
   "metadata": {},
   "outputs": [],
   "source": [
    "from urllib import *"
   ]
  },
  {
   "cell_type": "code",
   "execution_count": 23,
   "metadata": {},
   "outputs": [],
   "source": [
    "url = \"http://www.gutenberg.org/files/2554/2554-h/2554-h.htm\""
   ]
  },
  {
   "cell_type": "code",
   "execution_count": 24,
   "metadata": {},
   "outputs": [],
   "source": [
    "response = request.urlopen(url)"
   ]
  },
  {
   "cell_type": "code",
   "execution_count": 25,
   "metadata": {},
   "outputs": [],
   "source": [
    "raw = response.read().decode('utf8')"
   ]
  },
  {
   "cell_type": "code",
   "execution_count": 20,
   "metadata": {},
   "outputs": [
    {
     "data": {
      "text/plain": [
       "str"
      ]
     },
     "execution_count": 20,
     "metadata": {},
     "output_type": "execute_result"
    }
   ],
   "source": [
    "type(raw)"
   ]
  },
  {
   "cell_type": "code",
   "execution_count": 26,
   "metadata": {},
   "outputs": [
    {
     "data": {
      "text/plain": [
       "1444061"
      ]
     },
     "execution_count": 26,
     "metadata": {},
     "output_type": "execute_result"
    }
   ],
   "source": [
    "len(raw)"
   ]
  },
  {
   "cell_type": "code",
   "execution_count": 28,
   "metadata": {},
   "outputs": [
    {
     "data": {
      "text/plain": [
       "2797"
      ]
     },
     "execution_count": 28,
     "metadata": {},
     "output_type": "execute_result"
    }
   ],
   "source": [
    "raw.find(\"PART I\")"
   ]
  },
  {
   "cell_type": "code",
   "execution_count": 29,
   "metadata": {},
   "outputs": [],
   "source": [
    "raw = raw[5338:1157746]"
   ]
  },
  {
   "cell_type": "code",
   "execution_count": null,
   "metadata": {},
   "outputs": [],
   "source": [
    "# html 태그 제거 : 에러남"
   ]
  },
  {
   "cell_type": "code",
   "execution_count": 30,
   "metadata": {},
   "outputs": [],
   "source": [
    "import nltk"
   ]
  },
  {
   "cell_type": "code",
   "execution_count": 31,
   "metadata": {},
   "outputs": [
    {
     "ename": "NotImplementedError",
     "evalue": "To remove HTML markup, use BeautifulSoup's get_text() function",
     "output_type": "error",
     "traceback": [
      "\u001b[1;31m---------------------------------------------------------------------------\u001b[0m",
      "\u001b[1;31mNotImplementedError\u001b[0m                       Traceback (most recent call last)",
      "\u001b[1;32m<ipython-input-31-1bb8ff1f4b1a>\u001b[0m in \u001b[0;36m<module>\u001b[1;34m\u001b[0m\n\u001b[1;32m----> 1\u001b[1;33m \u001b[0mnltk\u001b[0m\u001b[1;33m.\u001b[0m\u001b[0mclean_html\u001b[0m\u001b[1;33m(\u001b[0m\u001b[0mraw\u001b[0m\u001b[1;33m)\u001b[0m\u001b[1;33m\u001b[0m\u001b[1;33m\u001b[0m\u001b[0m\n\u001b[0m",
      "\u001b[1;32m~\\Anaconda3\\lib\\site-packages\\nltk\\util.py\u001b[0m in \u001b[0;36mclean_html\u001b[1;34m(html)\u001b[0m\n\u001b[0;32m    391\u001b[0m \u001b[1;32mdef\u001b[0m \u001b[0mclean_html\u001b[0m\u001b[1;33m(\u001b[0m\u001b[0mhtml\u001b[0m\u001b[1;33m)\u001b[0m\u001b[1;33m:\u001b[0m\u001b[1;33m\u001b[0m\u001b[1;33m\u001b[0m\u001b[0m\n\u001b[0;32m    392\u001b[0m     raise NotImplementedError(\n\u001b[1;32m--> 393\u001b[1;33m         \u001b[1;34m\"To remove HTML markup, use BeautifulSoup's get_text() function\"\u001b[0m\u001b[1;33m\u001b[0m\u001b[1;33m\u001b[0m\u001b[0m\n\u001b[0m\u001b[0;32m    394\u001b[0m     )\n\u001b[0;32m    395\u001b[0m \u001b[1;33m\u001b[0m\u001b[0m\n",
      "\u001b[1;31mNotImplementedError\u001b[0m: To remove HTML markup, use BeautifulSoup's get_text() function"
     ]
    }
   ],
   "source": [
    "nltk.clean_html(raw) # 에러가남 -> 익셉션 처리 -> beautifilSoup4 대신 이용해야함"
   ]
  },
  {
   "cell_type": "markdown",
   "metadata": {},
   "source": [
    "pip install beautiful soup4"
   ]
  },
  {
   "cell_type": "code",
   "execution_count": 35,
   "metadata": {},
   "outputs": [],
   "source": [
    "from urllib import *\n",
    "from bs4 import BeautifulSoup"
   ]
  },
  {
   "cell_type": "code",
   "execution_count": 37,
   "metadata": {},
   "outputs": [],
   "source": [
    "html = request.urlopen(url).read().decode('utf8')"
   ]
  },
  {
   "cell_type": "code",
   "execution_count": 39,
   "metadata": {},
   "outputs": [],
   "source": [
    "raw = BeautifulSoup(html, 'html.parser').get_text()"
   ]
  },
  {
   "cell_type": "code",
   "execution_count": 40,
   "metadata": {},
   "outputs": [
    {
     "data": {
      "text/plain": [
       "'\\n\\n\\n\\n\\r\\n      Crime and Punishment, by Fyodor Dostoevsky\\r\\n    \\n\\r\\n\\r\\n    body { margin:5%; background:#f'"
      ]
     },
     "execution_count": 40,
     "metadata": {},
     "output_type": "execute_result"
    }
   ],
   "source": [
    "raw[:100]"
   ]
  },
  {
   "cell_type": "code",
   "execution_count": null,
   "metadata": {},
   "outputs": [],
   "source": [
    "toekns = nltk.word"
   ]
  },
  {
   "cell_type": "code",
   "execution_count": null,
   "metadata": {},
   "outputs": [],
   "source": [
    "# 선택과제 : 어려움(의무제출 x) -> 성적 약간 반영"
   ]
  },
  {
   "cell_type": "code",
   "execution_count": 41,
   "metadata": {},
   "outputs": [],
   "source": [
    "import re\n",
    "wordlist = [w for w in nltk.corpus.words.words('en') if w.islower()]"
   ]
  },
  {
   "cell_type": "code",
   "execution_count": 42,
   "metadata": {},
   "outputs": [
    {
     "data": {
      "text/plain": [
       "210687"
      ]
     },
     "execution_count": 42,
     "metadata": {},
     "output_type": "execute_result"
    }
   ],
   "source": [
    "len(wordlist)"
   ]
  },
  {
   "cell_type": "code",
   "execution_count": 43,
   "metadata": {},
   "outputs": [
    {
     "data": {
      "text/plain": [
       "['abcoulomb']"
      ]
     },
     "execution_count": 43,
     "metadata": {},
     "output_type": "execute_result"
    }
   ],
   "source": [
    "[w for w in wordlist if re.search('^abc',w)]"
   ]
  },
  {
   "cell_type": "code",
   "execution_count": 44,
   "metadata": {},
   "outputs": [
    {
     "data": {
      "text/plain": [
       "['aerodromics',\n",
       " 'agronomics',\n",
       " 'anthroponomics',\n",
       " 'astronomics',\n",
       " 'atomics',\n",
       " 'bionomics',\n",
       " 'economics',\n",
       " 'ethonomics',\n",
       " 'hydroeconomics',\n",
       " 'loxodromics',\n",
       " 'orthodromics',\n",
       " 'phoronomics',\n",
       " 'physiognomics',\n",
       " 'psychonomics',\n",
       " 'pyronomics',\n",
       " 'socionomics']"
      ]
     },
     "execution_count": 44,
     "metadata": {},
     "output_type": "execute_result"
    }
   ],
   "source": [
    "[w for w in wordlist if re.search('omics$',w)]"
   ]
  },
  {
   "cell_type": "code",
   "execution_count": 47,
   "metadata": {},
   "outputs": [
    {
     "data": {
      "text/plain": [
       "['abaca',\n",
       " 'abacate',\n",
       " 'abacay',\n",
       " 'abbacomes',\n",
       " 'abbacy',\n",
       " 'acacatechin',\n",
       " 'acacatechol',\n",
       " 'asarabacca',\n",
       " 'babacoote',\n",
       " 'bacaba',\n",
       " 'bacach',\n",
       " 'bacbakiri',\n",
       " 'bacca',\n",
       " 'baccaceous',\n",
       " 'baccae',\n",
       " 'baccalaurean',\n",
       " 'baccalaureate',\n",
       " 'baccara',\n",
       " 'baccarat',\n",
       " 'baccate',\n",
       " 'baccated',\n",
       " 'bombacaceous',\n",
       " 'cabaan',\n",
       " 'caback',\n",
       " 'cabbage',\n",
       " 'cabbagehead',\n",
       " 'cabbagewood',\n",
       " 'cabbagy',\n",
       " 'grabbable',\n",
       " 'historicocabbalistical',\n",
       " 'maccaboy',\n",
       " 'phytolaccaceous',\n",
       " 'piacaba',\n",
       " 'pseudoacaccia',\n",
       " 'sarabacan',\n",
       " 'scabbard',\n",
       " 'scabbardless',\n",
       " 'taccaceous',\n",
       " 'unscabbard',\n",
       " 'unscabbarded']"
      ]
     },
     "execution_count": 47,
     "metadata": {},
     "output_type": "execute_result"
    }
   ],
   "source": [
    "[w for w in wordlist if re.search('[abc][abc][abc][abc][abc]',w)]"
   ]
  },
  {
   "cell_type": "code",
   "execution_count": 48,
   "metadata": {},
   "outputs": [
    {
     "data": {
      "text/plain": [
       "['haab', 'staab']"
      ]
     },
     "execution_count": 48,
     "metadata": {},
     "output_type": "execute_result"
    }
   ],
   "source": [
    "[w for w in wordlist if re.search('aab+',w)] #aab다음에 무언가가 나오는거"
   ]
  },
  {
   "cell_type": "code",
   "execution_count": 49,
   "metadata": {},
   "outputs": [
    {
     "data": {
      "text/plain": [
       "['aba',\n",
       " 'abac',\n",
       " 'abaca',\n",
       " 'abacate',\n",
       " 'abacay',\n",
       " 'abacinate',\n",
       " 'abacination',\n",
       " 'abaciscus',\n",
       " 'abacist',\n",
       " 'aback',\n",
       " 'abactinal',\n",
       " 'abactinally',\n",
       " 'abaction',\n",
       " 'abactor',\n",
       " 'abaculus',\n",
       " 'abacus',\n",
       " 'abaff',\n",
       " 'abaft',\n",
       " 'abaisance',\n",
       " 'abaiser',\n",
       " 'abaissed',\n",
       " 'abalienate',\n",
       " 'abalienation',\n",
       " 'abalone',\n",
       " 'abampere',\n",
       " 'abandon',\n",
       " 'abandonable',\n",
       " 'abandoned',\n",
       " 'abandonedly',\n",
       " 'abandonee',\n",
       " 'abandoner',\n",
       " 'abandonment',\n",
       " 'abaptiston',\n",
       " 'abarthrosis',\n",
       " 'abarticular',\n",
       " 'abarticulation',\n",
       " 'abas',\n",
       " 'abase',\n",
       " 'abased',\n",
       " 'abasedly',\n",
       " 'abasedness',\n",
       " 'abasement',\n",
       " 'abaser',\n",
       " 'abash',\n",
       " 'abashed',\n",
       " 'abashedly',\n",
       " 'abashedness',\n",
       " 'abashless',\n",
       " 'abashlessly',\n",
       " 'abashment',\n",
       " 'abasia',\n",
       " 'abasic',\n",
       " 'abask',\n",
       " 'abastardize',\n",
       " 'abatable',\n",
       " 'abate',\n",
       " 'abatement',\n",
       " 'abater',\n",
       " 'abatis',\n",
       " 'abatised',\n",
       " 'abaton',\n",
       " 'abator',\n",
       " 'abattoir',\n",
       " 'abature',\n",
       " 'abave',\n",
       " 'abaxial',\n",
       " 'abaxile',\n",
       " 'abaze',\n",
       " 'abbacomes',\n",
       " 'abbacy',\n",
       " 'abbas',\n",
       " 'abbasi',\n",
       " 'abbassi',\n",
       " 'abbatial',\n",
       " 'abbatical',\n",
       " 'adiabatic',\n",
       " 'adiabatically',\n",
       " 'aftaba',\n",
       " 'agabanee',\n",
       " 'alabamide',\n",
       " 'alabamine',\n",
       " 'alabandite',\n",
       " 'alabarch',\n",
       " 'alabaster',\n",
       " 'alabastos',\n",
       " 'alabastrian',\n",
       " 'alabastrine',\n",
       " 'alabastrites',\n",
       " 'alabastron',\n",
       " 'alabastrum',\n",
       " 'anabaptize',\n",
       " 'anabasine',\n",
       " 'anabasis',\n",
       " 'anabasse',\n",
       " 'anabata',\n",
       " 'anabathmos',\n",
       " 'anabatic',\n",
       " 'andabatarian',\n",
       " 'apickaback',\n",
       " 'araba',\n",
       " 'araban',\n",
       " 'arabana',\n",
       " 'artaba',\n",
       " 'asarabacca',\n",
       " 'atabal',\n",
       " 'baba',\n",
       " 'babacoote',\n",
       " 'babai',\n",
       " 'babasco',\n",
       " 'babassu',\n",
       " 'babaylan',\n",
       " 'bacaba',\n",
       " 'banaba',\n",
       " 'barabara',\n",
       " 'bethabara',\n",
       " 'bhabar',\n",
       " 'bouillabaisse',\n",
       " 'brabagious',\n",
       " 'brabant',\n",
       " 'caba',\n",
       " 'cabaan',\n",
       " 'caback',\n",
       " 'cabaho',\n",
       " 'cabal',\n",
       " 'cabala',\n",
       " 'cabalassou',\n",
       " 'cabaletta',\n",
       " 'cabalic',\n",
       " 'cabalism',\n",
       " 'cabalist',\n",
       " 'cabalistic',\n",
       " 'cabalistical',\n",
       " 'cabalistically',\n",
       " 'caballer',\n",
       " 'caballine',\n",
       " 'caban',\n",
       " 'cabana',\n",
       " 'cabaret',\n",
       " 'cabas',\n",
       " 'cabasset',\n",
       " 'cabassou',\n",
       " 'cabbage',\n",
       " 'cabbagehead',\n",
       " 'cabbagewood',\n",
       " 'cabbagy',\n",
       " 'calaba',\n",
       " 'calabash',\n",
       " 'calabaza',\n",
       " 'calabazilla',\n",
       " 'canaba',\n",
       " 'cantabank',\n",
       " 'carabao',\n",
       " 'casaba',\n",
       " 'cassabanana',\n",
       " 'catabaptist',\n",
       " 'catabases',\n",
       " 'catabasis',\n",
       " 'catabatic',\n",
       " 'chabasie',\n",
       " 'chabazite',\n",
       " 'charabanc',\n",
       " 'charabancer',\n",
       " 'cinnabar',\n",
       " 'cinnabaric',\n",
       " 'cinnabarine',\n",
       " 'contraband',\n",
       " 'contrabandage',\n",
       " 'contrabandery',\n",
       " 'contrabandism',\n",
       " 'contrabandist',\n",
       " 'contrabandista',\n",
       " 'contrabass',\n",
       " 'contrabassist',\n",
       " 'contrabasso',\n",
       " 'dabba',\n",
       " 'dagaba',\n",
       " 'diabase',\n",
       " 'diabasic',\n",
       " 'etaballi',\n",
       " 'fabaceous',\n",
       " 'fleabane',\n",
       " 'gabardine',\n",
       " 'gabbard',\n",
       " 'garabato',\n",
       " 'goiabada',\n",
       " 'grabbable',\n",
       " 'guaba',\n",
       " 'guanabana',\n",
       " 'guanabano',\n",
       " 'guayaba',\n",
       " 'habanera',\n",
       " 'hallabaloo',\n",
       " 'hemabarometer',\n",
       " 'hexabasic',\n",
       " 'histometabasis',\n",
       " 'historicocabbalistical',\n",
       " 'huckaback',\n",
       " 'hullabaloo',\n",
       " 'indaba',\n",
       " 'infrabasal',\n",
       " 'isodiabatic',\n",
       " 'jaboticaba',\n",
       " 'kabaragoya',\n",
       " 'kabaya',\n",
       " 'kassabah',\n",
       " 'katabasis',\n",
       " 'katabatic',\n",
       " 'labara',\n",
       " 'labarum',\n",
       " 'labba',\n",
       " 'lardizabalaceous',\n",
       " 'malabathrum',\n",
       " 'mastaba',\n",
       " 'megabar',\n",
       " 'metabasis',\n",
       " 'metabasite',\n",
       " 'metabatic',\n",
       " 'metacinnabarite',\n",
       " 'metadiabase',\n",
       " 'mohabat',\n",
       " 'myrabalanus',\n",
       " 'nabak',\n",
       " 'nonabandonment',\n",
       " 'noncontraband',\n",
       " 'nonsabbatic',\n",
       " 'okthabah',\n",
       " 'orabassu',\n",
       " 'orchiocatabasis',\n",
       " 'ouabain',\n",
       " 'ouabaio',\n",
       " 'parabanate',\n",
       " 'parabanic',\n",
       " 'parabaptism',\n",
       " 'parabaptization',\n",
       " 'parabasal',\n",
       " 'parabasic',\n",
       " 'parabasis',\n",
       " 'pentabasic',\n",
       " 'piaba',\n",
       " 'piacaba',\n",
       " 'pickaback',\n",
       " 'prosabbath',\n",
       " 'prosabbatical',\n",
       " 'pseudoadiabatic',\n",
       " 'raband',\n",
       " 'rabanna',\n",
       " 'rabat',\n",
       " 'rabatine',\n",
       " 'rabatte',\n",
       " 'rabattement',\n",
       " 'rabbanist',\n",
       " 'rabbanite',\n",
       " 'ragabash',\n",
       " 'reabandon',\n",
       " 'rutabaga',\n",
       " 'sabadilla',\n",
       " 'sabadine',\n",
       " 'sabadinine',\n",
       " 'sabaigrass',\n",
       " 'sabalo',\n",
       " 'sabanut',\n",
       " 'sabbat',\n",
       " 'sabbath',\n",
       " 'sabbatia',\n",
       " 'sabbatic',\n",
       " 'sabbatical',\n",
       " 'sabbatine',\n",
       " 'sabbatism',\n",
       " 'sabbaton',\n",
       " 'sarabacan',\n",
       " 'saraband',\n",
       " 'scabbard',\n",
       " 'scabbardless',\n",
       " 'scarabaean',\n",
       " 'scarabaei',\n",
       " 'scarabaeid',\n",
       " 'scarabaeidoid',\n",
       " 'scarabaeiform',\n",
       " 'scarabaeoid',\n",
       " 'scarabaeus',\n",
       " 'schwabacher',\n",
       " 'shabash',\n",
       " 'siruaballi',\n",
       " 'squabash',\n",
       " 'squabasher',\n",
       " 'suprabasidorsal',\n",
       " 'syllabarium',\n",
       " 'syllabary',\n",
       " 'syllabatim',\n",
       " 'syllabation',\n",
       " 'tabacin',\n",
       " 'tabacosis',\n",
       " 'tabacum',\n",
       " 'tabanid',\n",
       " 'tabaniform',\n",
       " 'tabanuco',\n",
       " 'tabard',\n",
       " 'tabarded',\n",
       " 'tabaret',\n",
       " 'tabasheer',\n",
       " 'tabashir',\n",
       " 'tabaxir',\n",
       " 'tabbarea',\n",
       " 'tetrabasic',\n",
       " 'tetrabasicity',\n",
       " 'trabacolo',\n",
       " 'trabal',\n",
       " 'trabant',\n",
       " 'trabascolo',\n",
       " 'ultrabasic',\n",
       " 'ultrabasite',\n",
       " 'unabandoned',\n",
       " 'unabased',\n",
       " 'unabasedly',\n",
       " 'unabashable',\n",
       " 'unabashed',\n",
       " 'unabashedly',\n",
       " 'unabatable',\n",
       " 'unabated',\n",
       " 'unabatedly',\n",
       " 'unabating',\n",
       " 'unabatingly',\n",
       " 'unsabbatical',\n",
       " 'unscabbard',\n",
       " 'unscabbarded',\n",
       " 'wallaba',\n",
       " 'whillaballoo',\n",
       " 'yaba',\n",
       " 'zabaglione',\n",
       " 'zarabanda']"
      ]
     },
     "execution_count": 49,
     "metadata": {},
     "output_type": "execute_result"
    }
   ],
   "source": [
    "[w for w in wordlist if re.search('ab+a',w)] "
   ]
  },
  {
   "cell_type": "code",
   "execution_count": 51,
   "metadata": {},
   "outputs": [
    {
     "data": {
      "text/plain": [
       "['gold', 'golf', 'hold', 'hole']"
      ]
     },
     "execution_count": 51,
     "metadata": {},
     "output_type": "execute_result"
    }
   ],
   "source": [
    "import re\n",
    "wordlist = [w for w in nltk.corpus.words.words('en') if w.islower()]\n",
    "[w for w in wordlist if re.search('^[ghi][mno][jkl][def]$',w)]"
   ]
  },
  {
   "cell_type": "code",
   "execution_count": 52,
   "metadata": {},
   "outputs": [
    {
     "data": {
      "text/plain": [
       "[]"
      ]
     },
     "execution_count": 52,
     "metadata": {},
     "output_type": "execute_result"
    }
   ],
   "source": [
    "#2831\n",
    "[w for w in wordlist if re.search('^[abc][tuv][def][ghi]$',w)]"
   ]
  },
  {
   "cell_type": "code",
   "execution_count": 53,
   "metadata": {},
   "outputs": [],
   "source": [
    "chat_words = sorted(set(w for w in nltk.corpus.nps_chat.words()))"
   ]
  },
  {
   "cell_type": "code",
   "execution_count": 54,
   "metadata": {},
   "outputs": [
    {
     "data": {
      "text/plain": [
       "['miiiiiiiiiiiiinnnnnnnnnnneeeeeeeeee',\n",
       " 'miiiiiinnnnnnnnnneeeeeeee',\n",
       " 'mine',\n",
       " 'mmmmmmmmiiiiiiiiinnnnnnnnneeeeeeee']"
      ]
     },
     "execution_count": 54,
     "metadata": {},
     "output_type": "execute_result"
    }
   ],
   "source": [
    "[w for w in chat_words if re.search('^m+i+n+e+$',w)]"
   ]
  },
  {
   "cell_type": "code",
   "execution_count": 57,
   "metadata": {},
   "outputs": [
    {
     "data": {
      "text/plain": [
       "['a',\n",
       " 'aaaaaaaaaaaaaaaaa',\n",
       " 'aaahhhh',\n",
       " 'ah',\n",
       " 'ahah',\n",
       " 'ahahah',\n",
       " 'ahh',\n",
       " 'ahhahahaha',\n",
       " 'ahhh',\n",
       " 'ahhhh',\n",
       " 'ahhhhhh',\n",
       " 'ahhhhhhhhhhhhhh',\n",
       " 'h',\n",
       " 'ha',\n",
       " 'haaa',\n",
       " 'hah',\n",
       " 'haha',\n",
       " 'hahaaa',\n",
       " 'hahah',\n",
       " 'hahaha',\n",
       " 'hahahaa',\n",
       " 'hahahah',\n",
       " 'hahahaha',\n",
       " 'hahahahaaa',\n",
       " 'hahahahahaha',\n",
       " 'hahahahahahaha',\n",
       " 'hahahahahahahahahahahahahahahaha',\n",
       " 'hahahhahah',\n",
       " 'hahhahahaha']"
      ]
     },
     "execution_count": 57,
     "metadata": {},
     "output_type": "execute_result"
    }
   ],
   "source": [
    "[w for w in chat_words if re.search('^[ha]+$',w)]"
   ]
  },
  {
   "cell_type": "code",
   "execution_count": null,
   "metadata": {},
   "outputs": [],
   "source": []
  },
  {
   "cell_type": "code",
   "execution_count": null,
   "metadata": {},
   "outputs": [],
   "source": []
  },
  {
   "cell_type": "code",
   "execution_count": null,
   "metadata": {},
   "outputs": [],
   "source": []
  },
  {
   "cell_type": "code",
   "execution_count": null,
   "metadata": {},
   "outputs": [],
   "source": []
  },
  {
   "cell_type": "code",
   "execution_count": null,
   "metadata": {},
   "outputs": [],
   "source": []
  }
 ],
 "metadata": {
  "kernelspec": {
   "display_name": "Python 3",
   "language": "python",
   "name": "python3"
  },
  "language_info": {
   "codemirror_mode": {
    "name": "ipython",
    "version": 3
   },
   "file_extension": ".py",
   "mimetype": "text/x-python",
   "name": "python",
   "nbconvert_exporter": "python",
   "pygments_lexer": "ipython3",
   "version": "3.7.6"
  }
 },
 "nbformat": 4,
 "nbformat_minor": 4
}
